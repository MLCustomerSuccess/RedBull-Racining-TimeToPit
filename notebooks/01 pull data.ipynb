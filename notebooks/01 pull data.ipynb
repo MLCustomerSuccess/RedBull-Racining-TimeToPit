{
 "cells": [
  {
   "cell_type": "markdown",
   "id": "5d1ac4e8",
   "metadata": {},
   "source": [
    "### OCI Data Science - pull data\n",
    "This notebook provides tools and techniques to pull required data for the project\n",
    "\n",
    "##### Use fastF1 API \n",
    "* Pull Lap, weather, car, results, and position data \n",
    "\n",
    "\n"
   ]
  },
  {
   "cell_type": "markdown",
   "id": "d25da54a",
   "metadata": {},
   "source": [
    "#### This notebook uses formula1conda which is a custom conda\n",
    "fastf1 package requires python>=3.8 and OCI prebuild packages at this time mostly come with python==3.7.\n",
    "\n",
    "#### Steps to build and publish a custom conda:\n",
    "1. create a yaml file and list your packages \n",
    "2. in the terminal execute: `odsc conda create -f environment.yaml -n my-conda-env`\n",
    "3. publish conda: initialize `odsc conda init -b  -n  -a {api_key | resource_principal}` and then publish `odsc conda publish -s my-conda-envv1_0`"
   ]
  },
  {
   "cell_type": "code",
   "execution_count": 1,
   "id": "d3d0ed5c",
   "metadata": {},
   "outputs": [],
   "source": [
    "path = '/home/datascience/WorkSpace/RedBull-Racining-TimeToPit/notebooks'\n",
    "data_path = '../../RedBull/data/'"
   ]
  },
  {
   "cell_type": "code",
   "execution_count": 2,
   "id": "78d351f6",
   "metadata": {},
   "outputs": [],
   "source": [
    "import os\n",
    "os.chdir(path)\n",
    "import pandas as pd\n",
    "import logging\n",
    "import json\n",
    "import pickle\n",
    "import requests\n",
    "import numpy as np\n",
    "import fastf1\n",
    "import matplotlib.pyplot as plt\n",
    "import pickle\n",
    "fastf1.Cache.enable_cache(data_path)"
   ]
  },
  {
   "cell_type": "code",
   "execution_count": 3,
   "id": "ce927e5b",
   "metadata": {},
   "outputs": [],
   "source": [
    "# schedule = fastf1.get_event_schedule(2022).to_dict()\n",
    "# schedule = pd.DataFrame.from_dict(schedule)\n",
    "# schedule.head(10)"
   ]
  },
  {
   "cell_type": "code",
   "execution_count": 4,
   "id": "4630b7c6",
   "metadata": {},
   "outputs": [],
   "source": [
    "# EventName = list(schedule['EventName'][(schedule.index<13) & (schedule.index>1)])"
   ]
  },
  {
   "cell_type": "code",
   "execution_count": 5,
   "id": "f79a9a2a",
   "metadata": {},
   "outputs": [],
   "source": [
    "def get_lap_data(session, schedule, evnt, ses, EventDate):\n",
    "    '''get lap data from a session and\n",
    "       retun as a dataframe\n",
    "    '''\n",
    "    lap = session.laps.to_dict()\n",
    "    lap = pd.DataFrame.from_dict(lap)\n",
    "    lap['EventName'] =evnt\n",
    "    lap['country'] = schedule['Country'][schedule['EventName']==evnt].values[0]\n",
    "    lap['session'] = ses\n",
    "    lap['EventDate'] = schedule[EventDate][schedule['EventName']==evnt].values[0]\n",
    "    return lap"
   ]
  },
  {
   "cell_type": "code",
   "execution_count": 6,
   "id": "ff83dff5",
   "metadata": {},
   "outputs": [],
   "source": [
    "def get_weather_data(session, schedule, evnt, ses,EventDate): \n",
    "    '''get weather data from a session and\n",
    "       retun as a dataframe\n",
    "    '''\n",
    "    weather = session.weather_data.to_dict()\n",
    "    weather = pd.DataFrame.from_dict(weather)\n",
    "    weather['EventName'] =evnt\n",
    "    weather['country'] = schedule['Country'][schedule['EventName']==evnt].values[0]\n",
    "    weather['session'] = ses\n",
    "    weather['EventDate'] = schedule[EventDate][schedule['EventName']==evnt].values[0]\n",
    "    return weather"
   ]
  },
  {
   "cell_type": "code",
   "execution_count": 7,
   "id": "746157e7",
   "metadata": {},
   "outputs": [],
   "source": [
    "def get_car_data(session, schedule, evnt, ses,EventDate):\n",
    "    '''get car_data from a session and\n",
    "       retun as a dataframe\n",
    "    '''\n",
    "    for ii in session.car_data:\n",
    "        car_data = session.car_data[ii].to_dict()\n",
    "        car_data = pd.DataFrame.from_dict(car_data)\n",
    "        car_data['driver'] = ii\n",
    "    car_data['EventName'] =evnt\n",
    "    car_data['country'] = schedule['Country'][schedule['EventName']==evnt].values[0]\n",
    "    car_data['session'] = ses\n",
    "    car_data['EventDate'] = schedule[EventDate][schedule['EventName']==evnt].values[0]\n",
    "    return car_data"
   ]
  },
  {
   "cell_type": "code",
   "execution_count": 8,
   "id": "51d93e81",
   "metadata": {},
   "outputs": [],
   "source": [
    "def get_position_data(session, schedule, evnt, ses, EventDate):\n",
    "    '''get position_data from a session and\n",
    "       retun as a dataframe\n",
    "    '''    \n",
    "    for ii in session.pos_data:\n",
    "        position = session.pos_data[ii].to_dict()\n",
    "        position = pd.DataFrame.from_dict(position)\n",
    "        position['driver'] = ii\n",
    "    position['EventName'] =evnt\n",
    "    position['country'] = schedule['Country'][schedule['EventName']==evnt].values[0]\n",
    "    position['session'] = ses\n",
    "    position['EventDate'] = schedule[EventDate][schedule['EventName']==evnt].values[0]\n",
    "    return position"
   ]
  },
  {
   "cell_type": "code",
   "execution_count": 9,
   "id": "28e8c1ce",
   "metadata": {},
   "outputs": [],
   "source": [
    "def get_results(session, schedule, evnt, ses, EventDate):\n",
    "    '''get results data from a session and\n",
    "       retun as a dataframe\n",
    "    '''\n",
    "    result = session.results.to_dict()\n",
    "    result = pd.DataFrame.from_dict(result).reset_index()\n",
    "    result['EventName'] =evnt\n",
    "    result['country'] = schedule['Country'][schedule['EventName']==evnt].values[0]\n",
    "    result['session'] = ses\n",
    "    result['EventDate'] = schedule[EventDate][schedule['EventName']==evnt].values[0]\n",
    "    return result"
   ]
  },
  {
   "cell_type": "code",
   "execution_count": 11,
   "id": "9a4a6e5e",
   "metadata": {},
   "outputs": [],
   "source": [
    "%%time\n",
    "\n",
    "sessionDateMap = {'Race': 'Session5Date',\n",
    "          'Qualifying': 'Session4Date'}\n",
    "\n",
    "for year in [2022, 2021, 2020, 2019]:\n",
    "    \n",
    "    laps =[]\n",
    "    weathers =[]\n",
    "    results = []\n",
    "    car_data_ses =[]\n",
    "    all_positions =[]\n",
    "    \n",
    "    sch = fastf1.get_event_schedule(year).to_dict()\n",
    "    sch = pd.DataFrame.from_dict(sch)\n",
    "\n",
    "#     schedule.drop(schedule[schedule['EventName'] == 'Pre-Season Test'].index, inplace = True)\n",
    "    \n",
    "    ## year 2022 doesn't have data after Jun\n",
    "    if year == 2022:\n",
    "        sch = sch[sch.index<12]\n",
    "        \n",
    "    EventName = [s for s in sch['EventName'] if \"Grand\" in s]\n",
    "    \n",
    "    for event in EventName:\n",
    "        for session_type in ['Qualifying','Race']:\n",
    "            \n",
    "            eventDateColName = sessionDateMap[session_type]\n",
    "            \n",
    "            session = fastf1.get_session(year, event, session_type)\n",
    "            session.load()\n",
    "            \n",
    "            ## get lap data for a session\n",
    "            laps.append(get_lap_data(session, sch, event, \n",
    "                                     session_type, eventDateColName))\n",
    "            \n",
    "            ## get weather data for a session\n",
    "            weathers.append(get_weather_data(session, sch, event, \n",
    "                                             session_type, eventDateColName))\n",
    "\n",
    "            ## get car_data for a session\n",
    "            car_data_ses.append(get_car_data(session, sch, event, \n",
    "                                             session_type, eventDateColName))\n",
    "            \n",
    "            ## get positions for a session\n",
    "            all_positions.append(get_position_data(session, sch, event, \n",
    "                                                   session_type, eventDateColName))\n",
    "            \n",
    "            ## get results for a session\n",
    "            results.append(get_results(session, sch, event, \n",
    "                                       session_type, eventDateColName))\n",
    "\n",
    "    ## save all extracted session data in a year\n",
    "    file = open(data_path+ 'laps_'+str(year)+'.pkl', 'wb')\n",
    "    pickle.dump(laps,file)\n",
    "    file = open(data_path+ 'weathers_'+str(year)+'.pkl', 'wb')\n",
    "    pickle.dump(weathers,file)\n",
    "    file = open(data_path+ 'results_'+str(year)+'.pkl', 'wb')\n",
    "    pickle.dump(results,file)\n",
    "    file = open(data_path+ 'car_data_ses_'+str(year)+'.pkl', 'wb')\n",
    "    pickle.dump(car_data_ses,file)\n",
    "    file = open(data_path+' all_positions_'+str(year)+'.pkl', 'wb')\n",
    "    pickle.dump(all_positions,file)"
   ]
  },
  {
   "cell_type": "markdown",
   "id": "0e8598b6",
   "metadata": {},
   "source": [
    "## Concat all relevant pickle files and save them into a single pickle"
   ]
  },
  {
   "cell_type": "code",
   "execution_count": 12,
   "id": "56c11e52",
   "metadata": {},
   "outputs": [],
   "source": [
    "def concat_data_and_save(data_source, data_path):\n",
    "    '''\n",
    "    e.g. data_source is weather\n",
    "    1. finds all pkl files in the data_path folder\n",
    "    2. concat all\n",
    "    3. saves the in 'data_source'.pickle\n",
    "    '''\n",
    "    data =[]\n",
    "    files = os.listdir(data_path)\n",
    "    file = [x for x in files if x.endswith(\".pkl\") if data_source in x]\n",
    "\n",
    "    for fl in file:\n",
    "        file = open(data_path+fl,'rb')\n",
    "        data.extend(pickle.load(file))\n",
    "    data = pd.concat(data, axis=0)\n",
    "\n",
    "    file=open(data_path+data_source+'_data.pickle','wb')\n",
    "    pickle.dump(data,file)"
   ]
  },
  {
   "cell_type": "code",
   "execution_count": 13,
   "id": "138ecb8e",
   "metadata": {},
   "outputs": [],
   "source": [
    "concat_data_and_save('weather', data_path)\n",
    "concat_data_and_save('car', data_path)\n",
    "concat_data_and_save('positions', data_path)\n",
    "concat_data_and_save('laps', data_path)\n",
    "concat_data_and_save('results', data_path)"
   ]
  },
  {
   "cell_type": "code",
   "execution_count": null,
   "id": "8cb190ad",
   "metadata": {},
   "outputs": [],
   "source": []
  }
 ],
 "metadata": {
  "kernelspec": {
   "display_name": "Python [conda env:formulaonecondav1_0]",
   "language": "python",
   "name": "conda-env-formulaonecondav1_0-py"
  },
  "language_info": {
   "codemirror_mode": {
    "name": "ipython",
    "version": 3
   },
   "file_extension": ".py",
   "mimetype": "text/x-python",
   "name": "python",
   "nbconvert_exporter": "python",
   "pygments_lexer": "ipython3",
   "version": "3.8.13"
  }
 },
 "nbformat": 4,
 "nbformat_minor": 5
}
