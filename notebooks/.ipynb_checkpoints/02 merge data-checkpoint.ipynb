{
 "cells": [
  {
   "cell_type": "markdown",
   "id": "23f2569c",
   "metadata": {},
   "source": [
    "# OCI Data Science - Merge\n",
    "\n",
    "Befor using this notebook users have to download neccessary data. We've collected/downloaded the data in advance by usiltizing `00 pull data.ipunb` notebook and saved them to `data` folder. This helps to save time though data-download may take a few hours.\n",
    "\n",
    "This notebook creates final dataset which is utilized for model training and testing."
   ]
  },
  {
   "cell_type": "markdown",
   "id": "f4c44910",
   "metadata": {},
   "source": [
    "## Contents:\n",
    "\n",
    "* <a href='#intro'>Introduction</a>\n",
    "* <a href='#weatherdata'>weather data</a>\n",
    "* <a href='#lapsdata'>laps data</a>\n",
    "* <a href='#resultdata'>results data</a>\n",
    "* <a href='#Joindata'>merge weather and lap data</a>\n",
    "* <a href='#plotsamplelapdata'>plot sample lap data</a>\n",
    "* <a href='#Summarize'>Create Final Train/Test Data</a>\n",
    "* <a href='#AddTrackInfo'>Merge with Track Info</a>"
   ]
  },
  {
   "cell_type": "markdown",
   "id": "53b84653",
   "metadata": {},
   "source": [
    "<a id='intro'></a>\n",
    "## Introduction\n",
    "\n",
    "The data have already been saved in `data` folder. The data of intrest has `.pickle` extension and they are raw which requires preprocessed and prepared for feature extraction and model building.\n",
    "\n",
    "This notebook only focuses on reading varios data and merging them into a single DataFrame."
   ]
  },
  {
   "cell_type": "markdown",
   "id": "8ce20163",
   "metadata": {},
   "source": [
    "#### Load packages"
   ]
  },
  {
   "cell_type": "code",
   "execution_count": 1,
   "id": "300c2dff",
   "metadata": {},
   "outputs": [],
   "source": [
    "path = '/home/datascience/WorkSpace/RedBull-Racining-TimeToPit/notebooks'\n",
    "data_path = '../../RedBull/data/'"
   ]
  },
  {
   "cell_type": "code",
   "execution_count": 2,
   "id": "d77c2232",
   "metadata": {},
   "outputs": [],
   "source": [
    "import os\n",
    "os.chdir(path)\n",
    "import pandas as pd\n",
    "import logging\n",
    "import json\n",
    "import pickle\n",
    "import requests\n",
    "import numpy as np\n",
    "import datetime as dt\n",
    "import matplotlib.pyplot as plt"
   ]
  },
  {
   "cell_type": "markdown",
   "id": "5fa05d4f",
   "metadata": {},
   "source": [
    "<a id='weatherdata'></a>\n",
    "## Weather Data\n",
    "Weather data is available in session level and its time stamp is not aligned with laps-data.\n"
   ]
  },
  {
   "cell_type": "code",
   "execution_count": 3,
   "id": "d554a005",
   "metadata": {},
   "outputs": [],
   "source": [
    "file = open(data_path+'weathers_data.pickle','rb')\n",
    "df_weather = pickle.load(file)\n",
    "df_weather['eventYear'] = pd.DatetimeIndex(df_weather['EventDate']).year"
   ]
  },
  {
   "cell_type": "markdown",
   "id": "a71fe8ca",
   "metadata": {},
   "source": [
    "<a id='resultdata'></a>\n",
    "## Results\n",
    "\n",
    "Load data and select.\n",
    "\n",
    "Dropping non-race and non-qual rows from results data and keeping the following columns:\n",
    "`'Position','FullName','Q1Sec','Q2Sec','Q3Sec','RoundNumber','EventName','eventYear','session','TimeSec'`"
   ]
  },
  {
   "cell_type": "code",
   "execution_count": 4,
   "id": "6161f308",
   "metadata": {},
   "outputs": [
    {
     "name": "stdout",
     "output_type": "stream",
     "text": [
      "df_res size is:  (3618, 27)\n",
      "---------------------------------------------------------------------------------------------------- \n",
      "\n"
     ]
    }
   ],
   "source": [
    "file = open(data_path+'results_data.pickle','rb')\n",
    "df_res = pickle.load(file)\n",
    "\n",
    "df_res['eventYear'] = pd.DatetimeIndex(df_res['EventDate']).year\n",
    "df_res['Q1Sec'] = df_res['Q1']/np.timedelta64(1, 's')\n",
    "df_res['Q2Sec'] = df_res['Q2']/np.timedelta64(1, 's')\n",
    "df_res['Q3Sec'] = df_res['Q3']/np.timedelta64(1, 's')\n",
    "df_res['TimeSec'] = df_res['Time']/np.timedelta64(1, 's')\n",
    "\n",
    "\n",
    "## keep only race and qual data\n",
    "df_res = df_res[(df_res['session']=='Race') | (df_res['session']=='Qualifying')]\n",
    "print('df_res size is: ', df_res.shape)\n",
    "print('-'*100,'\\n')\n",
    "\n",
    "df_res= df_res[['Position','GridPosition','FullName','Q1Sec','Q2Sec','Q3Sec','RoundNumber','Abbreviation',\n",
    "                'EventName','eventYear','session','Time','TimeSec','TeamName', 'EventDate']]\n"
   ]
  },
  {
   "cell_type": "markdown",
   "id": "7b4933b8",
   "metadata": {},
   "source": [
    "<a id='lapsdata'></a>\n",
    "## Laps Data\n",
    "\n",
    "Load Lap data and convert times to useable format"
   ]
  },
  {
   "cell_type": "code",
   "execution_count": 5,
   "id": "f3f6e97e",
   "metadata": {},
   "outputs": [],
   "source": [
    "file = open(data_path+'laps_data.pickle','rb')\n",
    "drop_cols = ['Sector1Time','Sector2Time','Sector3Time',\n",
    "             'Sector1SessionTime','Sector2SessionTime','Sector3SessionTime',\n",
    "            'SpeedI1','SpeedI2','SpeedFL', 'IsAccurate']\n",
    "\n",
    "df_laps = pickle.load(file).drop(drop_cols,axis=1).reset_index(drop=True)\n",
    "\n",
    "df_laps['eventYear'] = pd.DatetimeIndex(df_laps['EventDate']).year\n",
    "df_laps['lapTimeSec'] = df_laps['LapTime']/np.timedelta64(1, 's')\n"
   ]
  },
  {
   "cell_type": "markdown",
   "id": "21bfd5c2",
   "metadata": {},
   "source": [
    "<a id='Joindata'></a>\n",
    "### Merge weather and lap data"
   ]
  },
  {
   "cell_type": "code",
   "execution_count": 6,
   "id": "d85d5678",
   "metadata": {},
   "outputs": [],
   "source": [
    "## Weather and Laps data are not time-aligned and each have their own \n",
    "## \n",
    "df_weather = df_weather.sort_values( ['EventName','eventYear','session', 'Time']).reset_index(drop=True)\n",
    "df_laps = df_laps.sort_values( ['EventName','eventYear','session','Team','Driver', 'Time']).reset_index(drop=True)\n",
    "\n",
    "LapsColumns = ['EventName','eventYear','Team','session','Driver',\n",
    "               'Time', 'DriverNumber', 'LapTime', 'LapNumber', 'Stint', 'PitOutTime',\n",
    "       'PitInTime', 'SpeedST', 'IsPersonalBest', 'Compound', 'TyreLife',\n",
    "       'FreshTyre', 'LapStartTime', 'TrackStatus',\n",
    "       'LapStartDate',  'country', 'EventDate','lapTimeSec']"
   ]
  },
  {
   "cell_type": "code",
   "execution_count": 7,
   "id": "ec441340",
   "metadata": {},
   "outputs": [
    {
     "name": "stderr",
     "output_type": "stream",
     "text": [
      "/home/datascience/conda/generalml_p37_cpu_v1/lib/python3.7/site-packages/ipykernel_launcher.py:20: UserWarning: Boolean Series key will be reindexed to match DataFrame index.\n"
     ]
    },
    {
     "name": "stdout",
     "output_type": "stream",
     "text": [
      "CPU times: user 11min, sys: 875 ms, total: 11min 1s\n",
      "Wall time: 11min 7s\n"
     ]
    }
   ],
   "source": [
    "%%time\n",
    "def func_merger_lap_weather(d_f):\n",
    "    '''\n",
    "    func_merger_lap_weather method merges weather and laps data\n",
    "    it returns all columns after merge\n",
    "    '''    \n",
    "    \n",
    "    d_f = d_f.sort_values('Time').reset_index(drop=True)\n",
    "    \n",
    "    EventName = np.unique(d_f['EventName'])[0]\n",
    "    session = np.unique(d_f['session'])[0]\n",
    "    eventYear = np.unique(d_f['eventYear'])[0]\n",
    "    Driver = np.unique(d_f['Driver'])\n",
    "    \n",
    "    sub_weather = df_weather[(df_weather['EventName']==EventName) &\n",
    "                            (df_weather['session']==session) &\n",
    "                            (df_weather['eventYear']==eventYear) ].sort_values('Time').reset_index(drop=True)\n",
    "    \n",
    "    sub_result = df_res[(df_weather['EventName']==EventName) &\n",
    "                            (df_weather['session']==session) &\n",
    "                            (df_weather['eventYear']==eventYear) ].sort_values('Time').reset_index(drop=True)\n",
    "    \n",
    "    d_f_merged = pd.merge_asof(d_f, sub_weather, \n",
    "                          on=\"Time\", direction='nearest',\n",
    "                         suffixes=('', '_drop'))\n",
    "    d_f_merged.drop([col for col in d_f_merged.columns if 'drop' in col], axis=1, inplace=True)\n",
    "    \n",
    "#     print(d_f.shape,Driver, len(d_f_merged), EventName , eventYear, np.unique(d_f['Team']), \n",
    "#           session, len(df_weather))\n",
    "    weather_cols = ['WindSpeed', 'AirTemp','Humidity', 'Pressure','TrackTemp','Rainfall','WindDirection']\n",
    "    laps_cols = ['Time', 'DriverNumber', 'LapTime', 'LapNumber', 'Stint', 'PitOutTime', 'RoundNumber',\n",
    "       'PitInTime', 'SpeedST', 'IsPersonalBest', 'Compound', 'TyreLife','FreshTyre', 'LapStartTime', 'TrackStatus',\n",
    "       'LapStartDate',  'country', 'EventDate','lapTimeSec']\n",
    "    laps_cols.extend(weather_cols) \n",
    "    \n",
    "    return  d_f_merged[laps_cols]\n",
    "\n",
    "df_lapWeather = df_laps.groupby(['EventName', 'eventYear','Team','session','Driver'])[LapsColumns].apply(func_merger_lap_weather).reset_index()"
   ]
  },
  {
   "cell_type": "markdown",
   "id": "fb5b58c9",
   "metadata": {},
   "source": [
    "<a id='plotsamplelapdata'></a>\n",
    "### Plot a sample race lap-data"
   ]
  },
  {
   "cell_type": "code",
   "execution_count": 8,
   "id": "47c713e3",
   "metadata": {},
   "outputs": [],
   "source": [
    "sub_lap = df_lapWeather[(df_lapWeather['EventName']=='Abu Dhabi Grand Prix') &\n",
    "        (df_lapWeather['Team']=='Red Bull Racing') &\n",
    "        (df_lapWeather['session']=='Race') &\n",
    "       (df_lapWeather['eventYear']==2021) &\n",
    "        (df_lapWeather['Driver']=='PER')].sort_values('Time').reset_index(drop=True) #(df_laps['Driver']=='PER')"
   ]
  },
  {
   "cell_type": "code",
   "execution_count": 9,
   "id": "a1f838de",
   "metadata": {},
   "outputs": [
    {
     "data": {
      "image/png": "[encoded data removed]",
      "text/plain": [
       "<Figure size 1200x200 with 1 Axes>"
      ]
     },
     "metadata": {},
     "output_type": "display_data"
    },
    {
     "data": {
      "image/png": "[encoded data removed]",
      "text/plain": [
       "<Figure size 1200x200 with 1 Axes>"
      ]
     },
     "metadata": {},
     "output_type": "display_data"
    },
    {
     "data": {
      "image/png": "[encoded data removed]",
      "text/plain": [
       "<Figure size 1200x200 with 1 Axes>"
      ]
     },
     "metadata": {},
     "output_type": "display_data"
    }
   ],
   "source": [
    "fig = plt.figure(figsize=(12,2))\n",
    "plt.plot(sub_lap['LapNumber'],sub_lap['lapTimeSec'])\n",
    "plt.grid()\n",
    "plt.xlabel('Lap Number')\n",
    "plt.ylabel('Lap Time (Sec)')\n",
    "plt.title(sub_lap['EventName'][0]+ '   ' +\n",
    "          str(sub_lap['eventYear'].values[0])+ '   Driver: ' +\n",
    "          sub_lap['Driver'][0])\n",
    "\n",
    "fig = plt.figure(figsize=(12,2))\n",
    "plt.plot(sub_lap['LapNumber'],sub_lap['AirTemp'])\n",
    "plt.grid()\n",
    "plt.xlabel('Lap Number')\n",
    "plt.ylabel('Temp C')\n",
    "\n",
    "fig = plt.figure(figsize=(12,2))\n",
    "plt.plot(sub_lap['LapNumber'],sub_lap['Humidity'])\n",
    "plt.grid()\n",
    "plt.xlabel('Lap Number')\n",
    "plt.ylabel('Humidity %')\n",
    "\n",
    "plt.show()"
   ]
  },
  {
   "cell_type": "markdown",
   "id": "2f9ddcaf",
   "metadata": {},
   "source": [
    "<a id='Summarize'></a>\n",
    "## Summarize df_lapWeather and add GridPosition and Position"
   ]
  },
  {
   "cell_type": "code",
   "execution_count": 10,
   "id": "e11c562e",
   "metadata": {},
   "outputs": [
    {
     "name": "stdout",
     "output_type": "stream",
     "text": [
      "CPU times: user 15min 11s, sys: 96.6 ms, total: 15min 11s\n",
      "Wall time: 15min 18s\n"
     ]
    }
   ],
   "source": [
    "%%time\n",
    "\n",
    "lapWeatherCols = df_lapWeather.columns\n",
    "\n",
    "def Features_PerTyre_PreRace_PerDriver(sub_df):\n",
    "    \n",
    "    bestTime=sessionName=meanAirTemp=meanTrackTemp=meanHumid=bestLapTimeSession=GridPosition=Position=TyreLife=Rainfall=np.nan  \n",
    "    \n",
    "    raceStintsNums = np.unique(sub_df['Stint'])[0]\n",
    "    raceTyresComps = np.unique(sub_df['Compound'])\n",
    "    Driver = np.unique(sub_df['Driver'])[0]\n",
    "    eventYear = np.unique(sub_df['eventYear'])[0]\n",
    "    EventName = np.unique(sub_df['EventName'])[0]\n",
    "    RoundNumber =  np.unique(sub_df['RoundNumber'])[0]\n",
    "\n",
    "    \n",
    "    meanAirTemp = np.nanmean(sub_df['AirTemp']) #[sub_df['session']==sessionName] )\n",
    "    meanTrackTemp = np.nanmean(sub_df['TrackTemp']) #[sub_df['session']==sessionName] )\n",
    "    meanHumid = np.nanmean(sub_df['Humidity']) #[sub_df['session']==sessionName] )\n",
    "    Rainfall = np.nanmean(sub_df['Rainfall'])#[sub_df['session']==sessionName] )\n",
    "    \n",
    "    GridPosition = df_res['GridPosition'][\n",
    "                          (df_res['EventName']==EventName)&\n",
    "                          (df_res['eventYear']==eventYear)&\n",
    "                          (df_res['Abbreviation']==Driver)&\n",
    "                          (df_res['RoundNumber']==RoundNumber)&\n",
    "                          (df_res['session']=='Race')]\n",
    "\n",
    "    Position = df_res['Position'][\n",
    "                          (df_res['EventName']==EventName)&\n",
    "                          (df_res['eventYear']==eventYear)&\n",
    "                          (df_res['Abbreviation']==Driver)&\n",
    "                          (df_res['RoundNumber']==RoundNumber)&\n",
    "                          (df_res['session']=='Race')]\n",
    "    if len(GridPosition): \n",
    "        GridPosition=GridPosition.values[0]\n",
    "    if len(Position): \n",
    "        Position=Position.values[0]\n",
    "        \n",
    "    StintLen =[]\n",
    "    StintLen = len(sub_df)\n",
    "#     if len(raceStintsNums):\n",
    "#         for ii in raceStintsNums:\n",
    "#             StintLen.append(len(sub_df[sub_df['Stint']==ii]) )\n",
    "    \n",
    "        \n",
    "    TyreAge = np.min(sub_df['TyreLife'])\n",
    "    \n",
    "    d_f = df_lapWeather[(df_lapWeather['EventName']==EventName)&\n",
    "                        (df_lapWeather['eventYear']==eventYear)&\n",
    "                        (df_lapWeather['Driver']==Driver)&\n",
    "                        (df_lapWeather['RoundNumber']==RoundNumber)&\n",
    "                        (df_lapWeather['session']=='Qualifying')&\n",
    "                        (df_lapWeather['Compound']!='raceTyresComps')]\n",
    "    \n",
    "    if len(d_f)>0:\n",
    "        \n",
    "        bestTime = np.min(d_f['lapTimeSec'])\n",
    "#         print(bestTime, np.unique(d_f['session']) )\n",
    "        \n",
    "        if ~np.isnan(bestTime):\n",
    "            sessionName = np.unique(d_f['session'][d_f['lapTimeSec']==bestTime])[0]\n",
    "         \n",
    "\n",
    "    return pd.Series(data = [bestTime,sessionName, meanAirTemp, meanTrackTemp, meanHumid, Rainfall,\n",
    "                             GridPosition,Position, raceStintsNums,TyreAge, StintLen], \n",
    "                     index=['bestPreRaceTime','bestLapTimeIsFrom','meanAirTemp','meanTrackTemp','meanHumid','Rainfall', \n",
    "                            'GridPosition','Position','raceStintsNums','TyreAge','StintLen'])\n",
    "\n",
    "df_agg = df_lapWeather[df_lapWeather['session']=='Race'].groupby(['EventName','RoundNumber','eventYear','Compound',\n",
    "                                                            'Driver','Stint']).\\\n",
    "                                                            apply(Features_PerTyre_PreRace_PerDriver).reset_index()"
   ]
  },
  {
   "cell_type": "code",
   "execution_count": 11,
   "id": "d4b99459",
   "metadata": {},
   "outputs": [
    {
     "data": {
      "text/html": [
       "<div>\n",
       "<style scoped>\n",
       "    .dataframe tbody tr th:only-of-type {\n",
       "        vertical-align: middle;\n",
       "    }\n",
       "\n",
       "    .dataframe tbody tr th {\n",
       "        vertical-align: top;\n",
       "    }\n",
       "\n",
       "    .dataframe thead th {\n",
       "        text-align: right;\n",
       "    }\n",
       "</style>\n",
       "<table border=\"1\" class=\"dataframe\">\n",
       "  <thead>\n",
       "    <tr style=\"text-align: right;\">\n",
       "      <th></th>\n",
       "      <th>EventName</th>\n",
       "      <th>RoundNumber</th>\n",
       "      <th>eventYear</th>\n",
       "      <th>Compound</th>\n",
       "      <th>Driver</th>\n",
       "      <th>Stint</th>\n",
       "      <th>bestPreRaceTime</th>\n",
       "      <th>bestLapTimeIsFrom</th>\n",
       "      <th>meanAirTemp</th>\n",
       "      <th>meanTrackTemp</th>\n",
       "      <th>meanHumid</th>\n",
       "      <th>Rainfall</th>\n",
       "      <th>GridPosition</th>\n",
       "      <th>Position</th>\n",
       "      <th>raceStintsNums</th>\n",
       "      <th>TyreAge</th>\n",
       "      <th>StintLen</th>\n",
       "    </tr>\n",
       "  </thead>\n",
       "  <tbody>\n",
       "    <tr>\n",
       "      <th>0</th>\n",
       "      <td>Bahrain Grand Prix</td>\n",
       "      <td>15</td>\n",
       "      <td>2020</td>\n",
       "      <td>HARD</td>\n",
       "      <td>ALB</td>\n",
       "      <td>3.0</td>\n",
       "      <td>88.274</td>\n",
       "      <td>Qualifying</td>\n",
       "      <td>25.0</td>\n",
       "      <td>27.000000</td>\n",
       "      <td>69.900000</td>\n",
       "      <td>0.0</td>\n",
       "      <td>4.0</td>\n",
       "      <td>3.0</td>\n",
       "      <td>3.0</td>\n",
       "      <td>22.0</td>\n",
       "      <td>1.0</td>\n",
       "    </tr>\n",
       "    <tr>\n",
       "      <th>1</th>\n",
       "      <td>Bahrain Grand Prix</td>\n",
       "      <td>15</td>\n",
       "      <td>2020</td>\n",
       "      <td>HARD</td>\n",
       "      <td>ALB</td>\n",
       "      <td>4.0</td>\n",
       "      <td>88.274</td>\n",
       "      <td>Qualifying</td>\n",
       "      <td>24.7</td>\n",
       "      <td>26.352174</td>\n",
       "      <td>72.952174</td>\n",
       "      <td>0.0</td>\n",
       "      <td>4.0</td>\n",
       "      <td>3.0</td>\n",
       "      <td>4.0</td>\n",
       "      <td>1.0</td>\n",
       "      <td>23.0</td>\n",
       "    </tr>\n",
       "  </tbody>\n",
       "</table>\n",
       "</div>"
      ],
      "text/plain": [
       "            EventName  RoundNumber  eventYear Compound Driver  Stint  \\\n",
       "0  Bahrain Grand Prix           15       2020     HARD    ALB    3.0   \n",
       "1  Bahrain Grand Prix           15       2020     HARD    ALB    4.0   \n",
       "\n",
       "   bestPreRaceTime bestLapTimeIsFrom  meanAirTemp  meanTrackTemp  meanHumid  \\\n",
       "0           88.274        Qualifying         25.0      27.000000  69.900000   \n",
       "1           88.274        Qualifying         24.7      26.352174  72.952174   \n",
       "\n",
       "   Rainfall  GridPosition  Position  raceStintsNums  TyreAge  StintLen  \n",
       "0       0.0           4.0       3.0             3.0     22.0       1.0  \n",
       "1       0.0           4.0       3.0             4.0      1.0      23.0  "
      ]
     },
     "execution_count": 11,
     "metadata": {},
     "output_type": "execute_result"
    }
   ],
   "source": [
    "df_agg[df_agg['RoundNumber']==15].reset_index(drop=True).head(2)"
   ]
  },
  {
   "cell_type": "markdown",
   "id": "1f14811b",
   "metadata": {},
   "source": [
    "<a id='AddTrackInfo'></a>\n",
    "## Add track info"
   ]
  },
  {
   "cell_type": "code",
   "execution_count": 12,
   "id": "7c4707dc",
   "metadata": {},
   "outputs": [],
   "source": [
    "### Load data\n",
    "trackInfo = pd.read_csv(data_path+'circuit_length.csv')\n",
    "df_agg = df_agg.merge(trackInfo, on=['EventName'])"
   ]
  },
  {
   "cell_type": "code",
   "execution_count": 13,
   "id": "28f9f555",
   "metadata": {},
   "outputs": [
    {
     "data": {
      "text/html": [
       "<div>\n",
       "<style scoped>\n",
       "    .dataframe tbody tr th:only-of-type {\n",
       "        vertical-align: middle;\n",
       "    }\n",
       "\n",
       "    .dataframe tbody tr th {\n",
       "        vertical-align: top;\n",
       "    }\n",
       "\n",
       "    .dataframe thead th {\n",
       "        text-align: right;\n",
       "    }\n",
       "</style>\n",
       "<table border=\"1\" class=\"dataframe\">\n",
       "  <thead>\n",
       "    <tr style=\"text-align: right;\">\n",
       "      <th></th>\n",
       "      <th>EventName</th>\n",
       "      <th>RoundNumber</th>\n",
       "      <th>eventYear</th>\n",
       "      <th>Compound</th>\n",
       "      <th>Driver</th>\n",
       "      <th>Stint</th>\n",
       "      <th>bestPreRaceTime</th>\n",
       "      <th>bestLapTimeIsFrom</th>\n",
       "      <th>meanAirTemp</th>\n",
       "      <th>meanTrackTemp</th>\n",
       "      <th>meanHumid</th>\n",
       "      <th>Rainfall</th>\n",
       "      <th>GridPosition</th>\n",
       "      <th>Position</th>\n",
       "      <th>raceStintsNums</th>\n",
       "      <th>TyreAge</th>\n",
       "      <th>StintLen</th>\n",
       "      <th>CircuitLength</th>\n",
       "      <th>designedLaps</th>\n",
       "    </tr>\n",
       "  </thead>\n",
       "  <tbody>\n",
       "    <tr>\n",
       "      <th>0</th>\n",
       "      <td>Bahrain Grand Prix</td>\n",
       "      <td>15</td>\n",
       "      <td>2020</td>\n",
       "      <td>HARD</td>\n",
       "      <td>ALB</td>\n",
       "      <td>3.0</td>\n",
       "      <td>88.274</td>\n",
       "      <td>Qualifying</td>\n",
       "      <td>25.0</td>\n",
       "      <td>27.000000</td>\n",
       "      <td>69.900000</td>\n",
       "      <td>0.0</td>\n",
       "      <td>4.0</td>\n",
       "      <td>3.0</td>\n",
       "      <td>3.0</td>\n",
       "      <td>22.0</td>\n",
       "      <td>1.0</td>\n",
       "      <td>5.412</td>\n",
       "      <td>57</td>\n",
       "    </tr>\n",
       "    <tr>\n",
       "      <th>1</th>\n",
       "      <td>Bahrain Grand Prix</td>\n",
       "      <td>15</td>\n",
       "      <td>2020</td>\n",
       "      <td>HARD</td>\n",
       "      <td>ALB</td>\n",
       "      <td>4.0</td>\n",
       "      <td>88.274</td>\n",
       "      <td>Qualifying</td>\n",
       "      <td>24.7</td>\n",
       "      <td>26.352174</td>\n",
       "      <td>72.952174</td>\n",
       "      <td>0.0</td>\n",
       "      <td>4.0</td>\n",
       "      <td>3.0</td>\n",
       "      <td>4.0</td>\n",
       "      <td>1.0</td>\n",
       "      <td>23.0</td>\n",
       "      <td>5.412</td>\n",
       "      <td>57</td>\n",
       "    </tr>\n",
       "  </tbody>\n",
       "</table>\n",
       "</div>"
      ],
      "text/plain": [
       "            EventName  RoundNumber  eventYear Compound Driver  Stint  \\\n",
       "0  Bahrain Grand Prix           15       2020     HARD    ALB    3.0   \n",
       "1  Bahrain Grand Prix           15       2020     HARD    ALB    4.0   \n",
       "\n",
       "   bestPreRaceTime bestLapTimeIsFrom  meanAirTemp  meanTrackTemp  meanHumid  \\\n",
       "0           88.274        Qualifying         25.0      27.000000  69.900000   \n",
       "1           88.274        Qualifying         24.7      26.352174  72.952174   \n",
       "\n",
       "   Rainfall  GridPosition  Position  raceStintsNums  TyreAge  StintLen  \\\n",
       "0       0.0           4.0       3.0             3.0     22.0       1.0   \n",
       "1       0.0           4.0       3.0             4.0      1.0      23.0   \n",
       "\n",
       "   CircuitLength  designedLaps  \n",
       "0          5.412            57  \n",
       "1          5.412            57  "
      ]
     },
     "execution_count": 13,
     "metadata": {},
     "output_type": "execute_result"
    }
   ],
   "source": [
    "df_agg[df_agg['RoundNumber']==15].reset_index(drop=True).head(2)"
   ]
  },
  {
   "cell_type": "code",
   "execution_count": 14,
   "id": "be172a1e",
   "metadata": {},
   "outputs": [],
   "source": [
    "df_agg.to_csv(data_path+'final_data.csv')"
   ]
  },
  {
   "cell_type": "markdown",
   "id": "c5fdef25",
   "metadata": {},
   "source": [
    "### End of Merge Data "
   ]
  }
 ],
 "metadata": {
  "kernelspec": {
   "display_name": "Python [conda env:generalml_p37_cpu_v1]",
   "language": "python",
   "name": "conda-env-generalml_p37_cpu_v1-py"
  },
  "language_info": {
   "codemirror_mode": {
    "name": "ipython",
    "version": 3
   },
   "file_extension": ".py",
   "mimetype": "text/x-python",
   "name": "python",
   "nbconvert_exporter": "python",
   "pygments_lexer": "ipython3",
   "version": "3.7.12"
  }
 },
 "nbformat": 4,
 "nbformat_minor": 5
}
